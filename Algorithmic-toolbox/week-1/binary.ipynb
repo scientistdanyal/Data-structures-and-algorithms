{
 "cells": [
  {
   "cell_type": "code",
   "execution_count": 13,
   "metadata": {},
   "outputs": [
    {
     "name": "stdout",
     "output_type": "stream",
     "text": [
      "[0, 0, 1, 1]\n"
     ]
    }
   ],
   "source": [
    "a = 12\n",
    "\n",
    "new = []\n",
    "\n",
    "while a:\n",
    "    valu = a%2\n",
    "    a = a//2\n",
    "    new.append(valu)\n",
    "\n",
    "print(new)\n"
   ]
  },
  {
   "cell_type": "code",
   "execution_count": 12,
   "metadata": {},
   "outputs": [
    {
     "name": "stdout",
     "output_type": "stream",
     "text": [
      "45\n"
     ]
    }
   ],
   "source": [
    "a = [1, 0, 1, 1, 0, 1]\n",
    "decimal = 0\n",
    "for i in range(len(a)-1,-1,-1):\n",
    "    value = a[i]*(2**i)\n",
    "    decimal +=value\n",
    "\n",
    "print(decimal)\n"
   ]
  },
  {
   "cell_type": "markdown",
   "metadata": {},
   "source": []
  }
 ],
 "metadata": {
  "kernelspec": {
   "display_name": "Python 3",
   "language": "python",
   "name": "python3"
  },
  "language_info": {
   "codemirror_mode": {
    "name": "ipython",
    "version": 3
   },
   "file_extension": ".py",
   "mimetype": "text/x-python",
   "name": "python",
   "nbconvert_exporter": "python",
   "pygments_lexer": "ipython3",
   "version": "3.10.12"
  },
  "orig_nbformat": 4
 },
 "nbformat": 4,
 "nbformat_minor": 2
}
