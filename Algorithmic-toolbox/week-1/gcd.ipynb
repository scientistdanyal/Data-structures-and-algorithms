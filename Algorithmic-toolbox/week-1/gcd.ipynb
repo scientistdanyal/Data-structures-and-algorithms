{
 "cells": [
  {
   "cell_type": "markdown",
   "metadata": {},
   "source": [
    "# Euclidean Algorithm"
   ]
  },
  {
   "cell_type": "code",
   "execution_count": 1,
   "metadata": {},
   "outputs": [
    {
     "name": "stdout",
     "output_type": "stream",
     "text": [
      "3\n"
     ]
    }
   ],
   "source": [
    "def gcd(a, b):\n",
    "   while b:\n",
    "     a, b = b, a%b\n",
    "\n",
    "   return a\n",
    "\n",
    "\n",
    "print(gcd(357,234))"
   ]
  },
  {
   "cell_type": "code",
   "execution_count": 4,
   "metadata": {},
   "outputs": [
    {
     "name": "stdout",
     "output_type": "stream",
     "text": [
      "2\n"
     ]
    }
   ],
   "source": [
    "class Solution:\n",
    "    def findGCD(self, nums) -> int:\n",
    "        min = max = nums[0]\n",
    "\n",
    "        for i in nums:\n",
    "            if i < min:\n",
    "                min = i\n",
    "\n",
    "            if i > max:\n",
    "                 max = i\n",
    "\n",
    "        while max and min:\n",
    "            if max > min :\n",
    "                max %= min \n",
    "            else:\n",
    "                min %= max\n",
    "        return max if max > min else min                        \n",
    "    \n",
    "\n",
    "solution = Solution()\n",
    "num = [3,3,5,3,6,3,2,3,4,6,2,3,46,3,2,4]\n",
    "print(solution.findGCD(num))"
   ]
  },
  {
   "cell_type": "markdown",
   "metadata": {},
   "source": [
    "# slow method\n"
   ]
  },
  {
   "cell_type": "code",
   "execution_count": 2,
   "metadata": {},
   "outputs": [
    {
     "name": "stdout",
     "output_type": "stream",
     "text": [
      "1\n"
     ]
    }
   ],
   "source": [
    "def gcd(a, b):\n",
    "  best = 0\n",
    "  for d in range(1, a + b):\n",
    "    if a%d == 0 and b % d == 0:\n",
    "      best = d\n",
    "\n",
    "  return best\n",
    "\n",
    "\n",
    "print(gcd(10, 49))"
   ]
  }
 ],
 "metadata": {
  "kernelspec": {
   "display_name": "Python 3",
   "language": "python",
   "name": "python3"
  },
  "language_info": {
   "codemirror_mode": {
    "name": "ipython",
    "version": 3
   },
   "file_extension": ".py",
   "mimetype": "text/x-python",
   "name": "python",
   "nbconvert_exporter": "python",
   "pygments_lexer": "ipython3",
   "version": "3.10.12"
  },
  "orig_nbformat": 4
 },
 "nbformat": 4,
 "nbformat_minor": 2
}
